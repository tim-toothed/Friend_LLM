{
 "cells": [
  {
   "cell_type": "code",
   "execution_count": null,
   "metadata": {
    "execution": {
     "iopub.execute_input": "2024-08-02T15:45:39.313723Z",
     "iopub.status.busy": "2024-08-02T15:45:39.313262Z",
     "iopub.status.idle": "2024-08-02T15:45:53.184500Z",
     "shell.execute_reply": "2024-08-02T15:45:53.183516Z",
     "shell.execute_reply.started": "2024-08-02T15:45:39.313695Z"
    },
    "trusted": true
   },
   "outputs": [],
   "source": [
    "! pip install transformers datasets"
   ]
  },
  {
   "cell_type": "code",
   "execution_count": null,
   "metadata": {
    "_kg_hide-output": true,
    "execution": {
     "iopub.execute_input": "2024-08-02T15:46:38.382685Z",
     "iopub.status.busy": "2024-08-02T15:46:38.382301Z",
     "iopub.status.idle": "2024-08-02T17:58:39.785106Z",
     "shell.execute_reply": "2024-08-02T17:58:39.783915Z",
     "shell.execute_reply.started": "2024-08-02T15:46:38.382642Z"
    },
    "trusted": true
   },
   "outputs": [],
   "source": [
    "import pandas as pd\n",
    "from transformers import GPT2LMHeadModel, GPT2Tokenizer, Trainer, TrainingArguments, TextDataset, DataCollatorForLanguageModeling\n",
    "import torch\n",
    "import os\n",
    "\n",
    "# Set environment variable to help debug CUDA errors\n",
    "os.environ['CUDA_LAUNCH_BLOCKING'] = \"1\"\n",
    "\n",
    "# Load your data\n",
    "stas_messages = pd.read_csv(\"/kaggle/input/YOUR_CSV_FILE\",sep='|')  # Adjust the path to your actual CSV file\n",
    "messages = stas_messages['sender_text'].tolist()\n",
    "\n",
    "# Save messages to a text file\n",
    "with open('messages.txt', 'w', encoding='utf-8') as f:\n",
    "    for message in messages:\n",
    "        f.write(message + '\\n')\n",
    "\n",
    "# Load pre-trained model and tokenizer\n",
    "model_name = \"AUTHOR/MODEL\"  # Adjust the model name to your actual base-model\n",
    "tokenizer = GPT2Tokenizer.from_pretrained(model_name)\n",
    "model = GPT2LMHeadModel.from_pretrained(model_name)\n",
    "\n",
    "# Create a dataset\n",
    "def load_dataset(file_path, tokenizer):\n",
    "    dataset = TextDataset(\n",
    "        tokenizer=tokenizer,\n",
    "        file_path=file_path,\n",
    "        block_size=128,\n",
    "    )\n",
    "    return dataset\n",
    "\n",
    "# Create a data collator\n",
    "def create_data_collator(tokenizer):\n",
    "    data_collator = DataCollatorForLanguageModeling(\n",
    "        tokenizer=tokenizer,\n",
    "        mlm=False,\n",
    "    )\n",
    "    return data_collator\n",
    "\n",
    "# Load dataset\n",
    "dataset = load_dataset('messages.txt', tokenizer)\n",
    "data_collator = create_data_collator(tokenizer)\n",
    "\n",
    "# Set up training arguments\n",
    "training_args = TrainingArguments(\n",
    "    output_dir=\"./gpt-messages\",\n",
    "    overwrite_output_dir=True,\n",
    "    num_train_epochs=3,\n",
    "    per_device_train_batch_size=1, \n",
    "    gradient_accumulation_steps=8,  \n",
    "    save_steps=10_000,\n",
    "    save_total_limit=2,\n",
    "    fp16=torch.cuda.is_available(),\n",
    ")\n",
    "\n",
    "# Initialize Trainer\n",
    "trainer = Trainer(\n",
    "    model=model,\n",
    "    args=training_args,\n",
    "    data_collator=data_collator,\n",
    "    train_dataset=dataset,\n",
    ")\n",
    "\n",
    "# Training loop with empty_cache\n",
    "for epoch in range(training_args.num_train_epochs):\n",
    "    trainer.train()\n",
    "    torch.cuda.empty_cache()  # Clear the cache\n",
    "\n",
    "# Save the model\n",
    "trainer.save_model(\"./rugpt3-messages\")\n",
    "\n",
    "# Load the fine-tuned model for generation\n",
    "model = GPT2LMHeadModel.from_pretrained(\"./rugpt3-messages\")\n",
    "tokenizer = GPT2Tokenizer.from_pretrained(model_name)\n",
    "\n",
    "# Generate text\n",
    "def generate_text(prompt, max_length=50, num_return_sequences=1):\n",
    "    inputs = tokenizer.encode(prompt, return_tensors=\"pt\")\n",
    "    outputs = model.generate(inputs, max_length=max_length, num_return_sequences=num_return_sequences, no_repeat_ngram_size=2, do_sample=True, top_k=50, top_p=0.95, temperature=0.7)\n",
    "    return [tokenizer.decode(output, skip_special_tokens=True) for output in outputs]\n",
    "\n",
    "# Example usage\n",
    "prompt = \"Никита\"\n",
    "generated_texts = generate_text(prompt, max_length=100, num_return_sequences=5)\n",
    "\n",
    "for i, text in enumerate(generated_texts):\n",
    "    print(f\"Generated Text {i+1}: {text}\\n\")\n"
   ]
  },
  {
   "cell_type": "code",
   "execution_count": null,
   "metadata": {
    "execution": {
     "iopub.execute_input": "2024-08-02T18:01:15.137300Z",
     "iopub.status.busy": "2024-08-02T18:01:15.136465Z",
     "iopub.status.idle": "2024-08-02T18:03:43.927618Z",
     "shell.execute_reply": "2024-08-02T18:03:43.926457Z",
     "shell.execute_reply.started": "2024-08-02T18:01:15.137265Z"
    },
    "trusted": true
   },
   "outputs": [],
   "source": [
    "# download the model\n",
    "!cd /kaggle/working\n",
    "!tar -czvf friend_gpt.zip -C . ."
   ]
  }
 ],
 "metadata": {
  "kaggle": {
   "accelerator": "gpu",
   "dataSources": [
    {
     "datasetId": 5170988,
     "sourceId": 8635295,
     "sourceType": "datasetVersion"
    },
    {
     "datasetId": 5485611,
     "sourceId": 9090641,
     "sourceType": "datasetVersion"
    }
   ],
   "dockerImageVersionId": 30733,
   "isGpuEnabled": true,
   "isInternetEnabled": true,
   "language": "python",
   "sourceType": "notebook"
  },
  "kernelspec": {
   "display_name": "Python 3",
   "language": "python",
   "name": "python3"
  },
  "language_info": {
   "codemirror_mode": {
    "name": "ipython",
    "version": 3
   },
   "file_extension": ".py",
   "mimetype": "text/x-python",
   "name": "python",
   "nbconvert_exporter": "python",
   "pygments_lexer": "ipython3",
   "version": "3.10.13"
  }
 },
 "nbformat": 4,
 "nbformat_minor": 4
}
